{
 "cells": [
  {
   "cell_type": "markdown",
   "metadata": {},
   "source": [
    ">Write a Python program for a binary search.\n",
    "\n",
    "Test Data: \n",
    "\n",
    "binary_search([1,2,3,5,8], 6) -> False\n",
    "\n",
    "binary_search([1,2,3,5,8], 5) -> True"
   ]
  },
  {
   "cell_type": "code",
   "execution_count": 8,
   "metadata": {},
   "outputs": [
    {
     "name": "stdout",
     "output_type": "stream",
     "text": [
      "False\n",
      "True\n"
     ]
    }
   ],
   "source": [
    "def Chercher(l,x):\n",
    "\tS= 0\n",
    "\tF=len(l)-1\n",
    "\tT= False\n",
    "\twhile( (S<=F) and not T):\n",
    "\t\tM = (S+F)//2\n",
    "\t\tif l[M] == x :\n",
    "\t\t\tT= True\n",
    "\t\telse:\n",
    "\t\t\tif x < l[M]:\n",
    "\t\t\t\tF=M-1\n",
    "\t\t\telse:\n",
    "\t\t\t\tS=M+1\t\n",
    "\treturn T\n",
    "\t\n",
    "print(Chercher([1,2,3,5,8], 6))\n",
    "print(Chercher([1,2,3,5,8], 5))\n",
    "\n"
   ]
  },
  {
   "cell_type": "markdown",
   "metadata": {},
   "source": [
    ">Write a Python program to calculate the value of 'a' to the power 'b'.\n",
    "\n",
    "Test Data: \n",
    "\n",
    "(power(3,4) -> 81"
   ]
  },
  {
   "cell_type": "code",
   "execution_count": 10,
   "metadata": {},
   "outputs": [
    {
     "name": "stdout",
     "output_type": "stream",
     "text": [
      "0.04000000000000001\n"
     ]
    }
   ],
   "source": [
    "def P(a,b):\n",
    "\tif a==0:\n",
    "\t\treturn 0\n",
    "\telif b==0:\n",
    "\t\treturn 1\n",
    "\telif b==1:\n",
    "\t\treturn a\n",
    "\telse:\n",
    "\t\treturn a*P(a,b-1)\n",
    "a=float(input(\"Donner un reel : \"))\n",
    "b=float(input(\"Donner l'exposant : \"))\n",
    "print(P(a,b))        \n"
   ]
  },
  {
   "cell_type": "markdown",
   "metadata": {},
   "source": [
    " >Write a Python program to sort a list of elements using the bubble sort algorithm.\n",
    "\n",
    "Sample Data: [29,13,22,37,52,49,46,71,56]\n",
    "\n",
    "Expected result: [13, 22, 29, 37, 42, 46, 49, 56, 71]"
   ]
  },
  {
   "cell_type": "code",
   "execution_count": 11,
   "metadata": {},
   "outputs": [
    {
     "name": "stdout",
     "output_type": "stream",
     "text": [
      "[13, 22, 29, 37, 46, 49, 52, 56, 71]\n"
     ]
    }
   ],
   "source": [
    "def B(l):\n",
    "    for i in range(len(l)-1,0,-1):\n",
    "        for j in range(i):\n",
    "            if l[j]>l[j+1]:\n",
    "                x = l[j]\n",
    "                l[j] = l[j+1]\n",
    "                l[j+1] = x\n",
    "\n",
    "l= [29,13,22,37,52,49,46,71,56]\n",
    "B(l)\n",
    "print(l)"
   ]
  },
  {
   "cell_type": "markdown",
   "metadata": {},
   "source": [
    ">Write a Python program to sort a list of elements using the merge sort algorithm.\n",
    "\n",
    "Sample Data: [29,13,22,37,52,49,46,71,56]\n",
    "\n",
    "Expected result: [13, 22, 29, 37, 42, 46, 49, 56, 71]"
   ]
  },
  {
   "cell_type": "code",
   "execution_count": 40,
   "metadata": {},
   "outputs": [
    {
     "name": "stdout",
     "output_type": "stream",
     "text": [
      "[14, 21, 27, 41, 43, 45, 46, 57, 70]\n"
     ]
    }
   ],
   "source": [
    "def MG(lis):\n",
    "   \n",
    "    if len(lis)>1:\n",
    "        M=len(lis)//2\n",
    "        LH=lis[:M]\n",
    "        RH=lis[M:]\n",
    "        MG(LH)\n",
    "        MG(RH)\n",
    "        i=j=k=0       \n",
    "        while i < len(LH) and j < len(RH):\n",
    "            if LH[i] <RH[j]:\n",
    "                lis[k]=LH[i]\n",
    "                i=i+1\n",
    "            else:\n",
    "                lis[k]=RH[j]\n",
    "                j=j+1\n",
    "            k=k+1\n",
    "\n",
    "        while i < len(LH):\n",
    "            lis[k]=LH[i]\n",
    "            i=i+1\n",
    "            k=k+1\n",
    "\n",
    "        while j < len(RH):\n",
    "            lis[k]=RH[j]\n",
    "            j=j+1\n",
    "            k=k+1\n",
    "    \n",
    "\n",
    "lis= [14,46,43,27,57,41,45,21,70]\n",
    "MG(lis)\n",
    "print(lis)\n"
   ]
  },
  {
   "cell_type": "markdown",
   "metadata": {},
   "source": [
    ">Write a Python program to sort a list of elements using the quick sort algorithm.\n",
    "\n",
    "Sample Data: [29,13,22,37,52,49,46,71,56]\n",
    "\n",
    "Expected result: [13, 22, 29, 37, 42, 46, 49, 56, 71]"
   ]
  },
  {
   "cell_type": "code",
   "execution_count": 24,
   "metadata": {},
   "outputs": [
    {
     "name": "stdout",
     "output_type": "stream",
     "text": [
      "[13, 22, 29, 37, 46, 52, 56, 71, 494]\n"
     ]
    }
   ],
   "source": [
    "def P(Lis,s,f):\n",
    "    pv=Lis[f]\n",
    "    x=s\n",
    "    for i in range(s,f):\n",
    "        if Lis[i] <=pv:\n",
    "           Lis[i], Lis[x] = Lis[x], Lis[i]\n",
    "           x += 1\n",
    "    Lis[x], Lis[f] = Lis[f], Lis[x]\n",
    "    return x\n",
    " \n",
    " \n",
    " \n",
    "def Q(Lis,s, f):\n",
    "    if len(Lis) == 1:  \n",
    "        return Lis\n",
    "    if s < f:\n",
    "        pi =P(Lis,s,f)\n",
    "        Q(Lis,s,pi-1)  \n",
    "        Q(Lis,pi+1,f)  \n",
    "    return Lis\n",
    " \n",
    " \n",
    "Lis= [29,13,22,37,52,494,46,71,56]\n",
    "print(Q(Lis,0,len(l)-1))"
   ]
  }
 ],
 "metadata": {
  "kernelspec": {
   "display_name": "Python 3.10.6 64-bit",
   "language": "python",
   "name": "python3"
  },
  "language_info": {
   "codemirror_mode": {
    "name": "ipython",
    "version": 3
   },
   "file_extension": ".py",
   "mimetype": "text/x-python",
   "name": "python",
   "nbconvert_exporter": "python",
   "pygments_lexer": "ipython3",
   "version": "3.10.6"
  },
  "orig_nbformat": 4,
  "vscode": {
   "interpreter": {
    "hash": "de66d7802e14fb2e8694b63e255d0fe3514f0a531cbbfb87d1ecc51a74f4db4d"
   }
  }
 },
 "nbformat": 4,
 "nbformat_minor": 2
}
